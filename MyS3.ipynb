{
 "cells": [
  {
   "cell_type": "markdown",
   "metadata": {},
   "source": [
    "# Make All Imports"
   ]
  },
  {
   "cell_type": "code",
   "execution_count": 1,
   "metadata": {
    "id": "eBay4nqh9iwd"
   },
   "outputs": [],
   "source": [
    "import math\n",
    "import numpy\n",
    "from functools import reduce, partial\n",
    "from random import choice, randint\n",
    "import re"
   ]
  },
  {
   "cell_type": "markdown",
   "metadata": {
    "id": "HAMOnSjR-Dab"
   },
   "source": [
    "# Q1\n",
    "Write a function using only list filter lambda that can tell whether a number is a Fibonacci number or not. You can use a pre-calculated list/dict to store fibonacci numbers till 10000."
   ]
  },
  {
   "cell_type": "code",
   "execution_count": 2,
   "metadata": {
    "id": "FglNpJcb987A"
   },
   "outputs": [],
   "source": [
    "# To calculate and store a set of Fibonacci numbers until 10000\n",
    "fib = [0, 1]\n",
    "[fib.append(fib[n-1] + fib[n-2]) for n in range(2, 21)]\n",
    "\n",
    "# From an input number less than 10000, returns True if the number is a fibonacci. False in all other cases.\n",
    "filter_fib = lambda l: l in fib"
   ]
  },
  {
   "cell_type": "code",
   "execution_count": 3,
   "metadata": {},
   "outputs": [
    {
     "name": "stdout",
     "output_type": "stream",
     "text": [
      "[0, 1, 1, 2, 3, 5, 8, 13, 21, 34, 55, 89, 144, 233, 377, 610, 987, 1597, 2584, 4181, 6765]\n"
     ]
    }
   ],
   "source": [
    "#fib list until 10000 for reference\n",
    "print(fib)"
   ]
  },
  {
   "cell_type": "code",
   "execution_count": 4,
   "metadata": {
    "colab": {
     "base_uri": "https://localhost:8080/"
    },
    "id": "BwVcoTgL-RuN",
    "outputId": "c9a07c58-1eca-4085-c12e-f20c2b7c9e15"
   },
   "outputs": [
    {
     "data": {
      "text/plain": [
       "True"
      ]
     },
     "execution_count": 4,
     "metadata": {},
     "output_type": "execute_result"
    }
   ],
   "source": [
    "# Usage\n",
    "# Pass the number \"x\" as the argument for the function - filter_fib(x)\n",
    "\n",
    "filter_fib(1)"
   ]
  },
  {
   "cell_type": "code",
   "execution_count": 5,
   "metadata": {},
   "outputs": [
    {
     "data": {
      "text/plain": [
       "True"
      ]
     },
     "execution_count": 5,
     "metadata": {},
     "output_type": "execute_result"
    }
   ],
   "source": [
    "filter_fib(610)"
   ]
  },
  {
   "cell_type": "code",
   "execution_count": 6,
   "metadata": {},
   "outputs": [
    {
     "data": {
      "text/plain": [
       "False"
      ]
     },
     "execution_count": 6,
     "metadata": {},
     "output_type": "execute_result"
    }
   ],
   "source": [
    "filter_fib(6668)"
   ]
  },
  {
   "cell_type": "markdown",
   "metadata": {
    "id": "MDUX56SY_SpD"
   },
   "source": [
    "# Q2\n",
    "##### Using list comprehension (and zip/ lambda/ etc if required) write five different expressions that:"
   ]
  },
  {
   "cell_type": "markdown",
   "metadata": {
    "id": "6wjj7csR_sRW"
   },
   "source": [
    "##### 1. Add 2 iterables a and b such that a is even and b is odd"
   ]
  },
  {
   "cell_type": "code",
   "execution_count": 7,
   "metadata": {
    "id": "_K7pHhu5_PTG"
   },
   "outputs": [],
   "source": [
    "# Assumption: Take 2 lists 'a' and 'b' as an iterable\n",
    "# The below function would filter even numbers in a and add them to the filtered even numbers in b.\n",
    "# The output list length would be less of a or b\n",
    "\n",
    "even_odd_addition = lambda l1, l2: [x + y for x, y in zip(filter(lambda _: _%2==0 , l1), filter(lambda _: _%2!=0, l2))]"
   ]
  },
  {
   "cell_type": "code",
   "execution_count": 8,
   "metadata": {
    "colab": {
     "base_uri": "https://localhost:8080/"
    },
    "id": "s2trV2bLAG67",
    "outputId": "9e3ec750-be4c-45e9-c5d4-a034c395ef04"
   },
   "outputs": [
    {
     "name": "stdout",
     "output_type": "stream",
     "text": [
      "[5, 5, 7, 9]\n"
     ]
    }
   ],
   "source": [
    "a = [2, 2, 2, 3, 4, 5, 6]\n",
    "b = [2, 2, 3, 3, 4, 4, 5, 5]\n",
    "\n",
    "print(even_odd_addition(a, b))"
   ]
  },
  {
   "cell_type": "markdown",
   "metadata": {
    "id": "gt9-N4MhAuW-"
   },
   "source": [
    "##### 2. Strips every vowel from a string provided (tsai>>t s)"
   ]
  },
  {
   "cell_type": "code",
   "execution_count": 9,
   "metadata": {
    "id": "9LredXIoAtb-"
   },
   "outputs": [],
   "source": [
    "vowels = ['a', 'e', 'i', 'o', 'u', 'A', 'E', 'I', 'O', 'U']\n",
    "rem_vowels = lambda st: \"\".join([ch for ch in st if ch not in vowels])"
   ]
  },
  {
   "cell_type": "code",
   "execution_count": 10,
   "metadata": {
    "colab": {
     "base_uri": "https://localhost:8080/"
    },
    "id": "NRmrQMNmBFlW",
    "outputId": "ec660e82-2a1f-4fa4-ddbd-4b0059808181"
   },
   "outputs": [
    {
     "name": "stdout",
     "output_type": "stream",
     "text": [
      "ts\n"
     ]
    }
   ],
   "source": [
    "print(rem_vowels('tsai'))"
   ]
  },
  {
   "cell_type": "markdown",
   "metadata": {
    "id": "hjmjaaNLBOqA"
   },
   "source": [
    "##### 3. Acts like a ReLU function for a 1D array"
   ]
  },
  {
   "cell_type": "code",
   "execution_count": 11,
   "metadata": {
    "id": "zs-g3tJRBNpO"
   },
   "outputs": [],
   "source": [
    "ReLU = lambda l: [x if x>0 else 0 for x in l]"
   ]
  },
  {
   "cell_type": "code",
   "execution_count": 12,
   "metadata": {
    "colab": {
     "base_uri": "https://localhost:8080/"
    },
    "id": "d-K75AFRBdKA",
    "outputId": "7a0d8aff-43ad-413a-94b6-2873d0a5526c"
   },
   "outputs": [
    {
     "name": "stdout",
     "output_type": "stream",
     "text": [
      "[0, 0, 1, 0, 3, 0, 55]\n"
     ]
    }
   ],
   "source": [
    "x = [-0.2, 0, 1, -2, 3, 0, 55]\n",
    "print(ReLU(x))"
   ]
  },
  {
   "cell_type": "markdown",
   "metadata": {
    "id": "NtpsBVn2B2xA"
   },
   "source": [
    "##### 4. Acts like a sigmoid function for a 1D array"
   ]
  },
  {
   "cell_type": "code",
   "execution_count": 13,
   "metadata": {
    "id": "RbIvSTI2Bxfd"
   },
   "outputs": [],
   "source": [
    "sigmoid = lambda l: [(1 / (1 + math.exp(-x))) for x in l]"
   ]
  },
  {
   "cell_type": "code",
   "execution_count": 14,
   "metadata": {
    "colab": {
     "base_uri": "https://localhost:8080/"
    },
    "id": "ogoF4te8CCiq",
    "outputId": "40033fca-86e4-492a-854c-f3a3d0a680b2"
   },
   "outputs": [
    {
     "name": "stdout",
     "output_type": "stream",
     "text": [
      "[0.45016600268752216, 0.5, 0.7310585786300049, 0.11920292202211755, 0.9525741268224334, 0.5, 1.0]\n"
     ]
    }
   ],
   "source": [
    "x = [-0.2, 0, 1, -2, 3, 0, 55 ]\n",
    "print(sigmoid(x))"
   ]
  },
  {
   "cell_type": "markdown",
   "metadata": {
    "id": "MxHFJONUCuZD"
   },
   "source": [
    "##### 5. Takes a small character string and shifts all characters by 5 (handle boundary conditions) tsai>>yxfn"
   ]
  },
  {
   "cell_type": "code",
   "execution_count": 15,
   "metadata": {
    "id": "viO5CwzpCthR"
   },
   "outputs": [],
   "source": [
    "shift_alpha = lambda st: \"\".join([chr(((ord(ch)+5)%97%26)+97) for ch in st])"
   ]
  },
  {
   "cell_type": "code",
   "execution_count": 16,
   "metadata": {
    "colab": {
     "base_uri": "https://localhost:8080/"
    },
    "id": "B9yDGNO5C4jj",
    "outputId": "c74d0e7f-6d93-4902-ac42-e0822932e5fb"
   },
   "outputs": [
    {
     "name": "stdout",
     "output_type": "stream",
     "text": [
      "yxfn\n"
     ]
    }
   ],
   "source": [
    "print(shift_alpha('tsai'))"
   ]
  },
  {
   "cell_type": "markdown",
   "metadata": {
    "id": "PuZ6PnuyDJHt"
   },
   "source": [
    "# Q3\n",
    "A list comprehension expression that takes a ~200 word paragraph (write your own paragraph to check), and checks whether it has any of the swear words mentioned in https://github.com/RobertJGabriel/Google-profanity-words/blob/master/list.txt"
   ]
  },
  {
   "cell_type": "code",
   "execution_count": 17,
   "metadata": {
    "id": "KsrhmPEVDGnX"
   },
   "outputs": [],
   "source": [
    "# Reading text file using url and storing the swear words as a list\n",
    "import urllib.request\n",
    "url = \"https://raw.githubusercontent.com/RobertJGabriel/Google-profanity-words/master/list.txt\"\n",
    "file = urllib.request.urlopen(url)\n",
    "swear = [line.decode(\"utf-8\").strip(' ').split('\\n')[0] for line in file.readlines()]\n",
    "\n",
    "# From a paragraph of words, check is there is any swear word present. Returns True if present, else fale.\n",
    "has_swear = lambda para: any([True if word in swear else False for word in re.split('[ .\\n,!\\'\\\"]', para)])"
   ]
  },
  {
   "cell_type": "code",
   "execution_count": 18,
   "metadata": {
    "colab": {
     "base_uri": "https://localhost:8080/"
    },
    "id": "wYyl-s0vDeyb",
    "outputId": "0091ddfc-c45c-4b47-ac41-98edbd0858c2"
   },
   "outputs": [],
   "source": [
    "P1 = \"\"\"People who study biology are called biologists. Biology looks at how animals and other living things behave\n",
    "and work, and what they are like. Biology also studies how organisms react with each other and the environment. \n",
    "It has existed as a science for about 200 years, and was preceded by natural history. Biology has many research fields\n",
    "and branches. Like all sciences, biology uses the scientific method. This means that biologists must be able to show\n",
    "evidence for their ideas and that other biologists must be able to test the ideas for themselves. \"\"\"\n",
    "\n",
    "P2 = \"\"\"Two sphincters control the exit of feces from the body during an act of defecation, which is the primary\n",
    "function of the anus. These are the internal anal sphincter and the external anal sphincter, which are circular\n",
    "muscles that normally maintain constriction of the orifice and which relaxes as required by normal physiological\n",
    "functioning. The inner sphincter is involuntary and the outer is voluntary. \"\"\""
   ]
  },
  {
   "cell_type": "code",
   "execution_count": 19,
   "metadata": {},
   "outputs": [
    {
     "data": {
      "text/plain": [
       "False"
      ]
     },
     "execution_count": 19,
     "metadata": {},
     "output_type": "execute_result"
    }
   ],
   "source": [
    "has_swear(P1)"
   ]
  },
  {
   "cell_type": "code",
   "execution_count": 20,
   "metadata": {},
   "outputs": [
    {
     "data": {
      "text/plain": [
       "True"
      ]
     },
     "execution_count": 20,
     "metadata": {},
     "output_type": "execute_result"
    }
   ],
   "source": [
    "has_swear(P2)"
   ]
  },
  {
   "cell_type": "markdown",
   "metadata": {
    "id": "uCWjRN_NEIDx"
   },
   "source": [
    "# Q4\n",
    "##### Using reduce functions:"
   ]
  },
  {
   "cell_type": "markdown",
   "metadata": {
    "id": "bpFNAaoDER_n"
   },
   "source": [
    "##### 1. Add only even numbers in a list"
   ]
  },
  {
   "cell_type": "code",
   "execution_count": 21,
   "metadata": {
    "id": "h6r72NjWEWHh"
   },
   "outputs": [
    {
     "name": "stdout",
     "output_type": "stream",
     "text": [
      "6\n"
     ]
    }
   ],
   "source": [
    "add_only_even = lambda l: reduce(lambda a, b: a+b if b%2==0 else a, l, 0)\n",
    "a = [1,2,3,4,5]\n",
    "print(add_only_even(a))"
   ]
  },
  {
   "cell_type": "markdown",
   "metadata": {
    "id": "i5gOOdfrEzPa"
   },
   "source": [
    "##### 2. Find the biggest character in a string (printable ascii characters)"
   ]
  },
  {
   "cell_type": "code",
   "execution_count": 22,
   "metadata": {
    "id": "RRcks-o4E3XK"
   },
   "outputs": [
    {
     "data": {
      "text/plain": [
       "'p'"
      ]
     },
     "execution_count": 22,
     "metadata": {},
     "output_type": "execute_result"
    }
   ],
   "source": [
    "big_char = lambda st: reduce(lambda a, b: a if ord(a)>ord(b) else b, st)\n",
    "str='Apple'\n",
    "big_char(str)"
   ]
  },
  {
   "cell_type": "markdown",
   "metadata": {
    "id": "lBPPomn-FlPZ"
   },
   "source": [
    "##### 3. Add every 3rd number in a list"
   ]
  },
  {
   "cell_type": "code",
   "execution_count": 23,
   "metadata": {
    "id": "QYmDtwmOFjT2"
   },
   "outputs": [],
   "source": [
    "add_third_num = lambda l: reduce(lambda a, b: a+b, l[2::3], 0)\n",
    "a=[1, 5, 0, 41, 55, 0, 77, 84, 0]\n",
    "b=[1, 5, 1, 41, 55, 0, 77, 84, 0]"
   ]
  },
  {
   "cell_type": "code",
   "execution_count": 24,
   "metadata": {
    "colab": {
     "base_uri": "https://localhost:8080/"
    },
    "id": "lgHWtJx8F7SJ",
    "outputId": "062b8562-cc7b-40ab-809a-8f2c94a8500d"
   },
   "outputs": [
    {
     "data": {
      "text/plain": [
       "0"
      ]
     },
     "execution_count": 24,
     "metadata": {},
     "output_type": "execute_result"
    }
   ],
   "source": [
    "add_third_num(a)"
   ]
  },
  {
   "cell_type": "code",
   "execution_count": 25,
   "metadata": {},
   "outputs": [
    {
     "data": {
      "text/plain": [
       "1"
      ]
     },
     "execution_count": 25,
     "metadata": {},
     "output_type": "execute_result"
    }
   ],
   "source": [
    "add_third_num(b)"
   ]
  },
  {
   "cell_type": "markdown",
   "metadata": {
    "id": "Gw80AcW_GoZ8"
   },
   "source": [
    "# Q5\n",
    "Using randint, random.choice and list comprehensions, write an expression that generates 15 random KADDAADDDD number plates, where KA is fixed, D stands for a digit, and A stands for Capital alphabets. 10<<DD<<99 & 1000<<DDDD<<9999"
   ]
  },
  {
   "cell_type": "code",
   "execution_count": 26,
   "metadata": {
    "id": "58Hx3EMiGr4n"
   },
   "outputs": [],
   "source": [
    "rand_KA = lambda: [f\"KA{randint(10, 99)}{chr(randint(65, 90))}{chr(randint(65, 90))}{randint(1000, 9999)}\" for i in range(15)]"
   ]
  },
  {
   "cell_type": "code",
   "execution_count": 27,
   "metadata": {
    "colab": {
     "base_uri": "https://localhost:8080/"
    },
    "id": "oTCSSK7qG7ii",
    "outputId": "65daf58b-af02-4694-f32d-f162c50676a9"
   },
   "outputs": [
    {
     "data": {
      "text/plain": [
       "['KA23QG9774',\n",
       " 'KA52NH7895',\n",
       " 'KA88VV1530',\n",
       " 'KA67OI8091',\n",
       " 'KA53NR8146',\n",
       " 'KA32NS2229',\n",
       " 'KA85SR8056',\n",
       " 'KA37YR1971',\n",
       " 'KA39XV2786',\n",
       " 'KA69XU6292',\n",
       " 'KA29QK1887',\n",
       " 'KA57FK6413',\n",
       " 'KA71RL1891',\n",
       " 'KA40SP3509',\n",
       " 'KA60PT9895']"
      ]
     },
     "execution_count": 27,
     "metadata": {},
     "output_type": "execute_result"
    }
   ],
   "source": [
    "rand_KA()"
   ]
  },
  {
   "cell_type": "markdown",
   "metadata": {
    "id": "UUfZ5HaxHQOC"
   },
   "source": [
    "# Q6\n",
    "Write the above again from scratch where KA can be changed to DL, and 1000/9999 ranges can be provided."
   ]
  },
  {
   "cell_type": "code",
   "execution_count": 28,
   "metadata": {
    "id": "YU4qDRL_HAG2"
   },
   "outputs": [],
   "source": [
    "random_numplate_gen = lambda st='KA', rng=(1000, 9999):  \\\n",
    "[f\"{st}{randint(10, 99)}{chr(randint(65, 90))}{chr(randint(65, 90))}{randint(rng[0], rng[1])}\" for i in range(15)]"
   ]
  },
  {
   "cell_type": "code",
   "execution_count": 29,
   "metadata": {
    "colab": {
     "base_uri": "https://localhost:8080/"
    },
    "id": "SjHO821pHjsK",
    "outputId": "b6ae3b8c-7aa5-4424-f11e-5bdb7468f5cd"
   },
   "outputs": [
    {
     "data": {
      "text/plain": [
       "['DL24DQ8588',\n",
       " 'DL92UR8587',\n",
       " 'DL26KG8588',\n",
       " 'DL58MW8586',\n",
       " 'DL78DU8586',\n",
       " 'DL20QZ8590',\n",
       " 'DL49YB8589',\n",
       " 'DL29NB8586',\n",
       " 'DL32LT8587',\n",
       " 'DL13KM8586',\n",
       " 'DL31LA8590',\n",
       " 'DL90UN8588',\n",
       " 'DL46JV8590',\n",
       " 'DL50WZ8587',\n",
       " 'DL97AE8590']"
      ]
     },
     "execution_count": 29,
     "metadata": {},
     "output_type": "execute_result"
    }
   ],
   "source": [
    "random_numplate_gen('DL', (8585, 8590))"
   ]
  }
 ],
 "metadata": {
  "colab": {
   "name": "Advanced Python for General Computing & NLP_Assignment.ipynb",
   "provenance": []
  },
  "kernelspec": {
   "display_name": "Python 3",
   "language": "python",
   "name": "python3"
  },
  "language_info": {
   "codemirror_mode": {
    "name": "ipython",
    "version": 3
   },
   "file_extension": ".py",
   "mimetype": "text/x-python",
   "name": "python",
   "nbconvert_exporter": "python",
   "pygments_lexer": "ipython3",
   "version": "3.8.5"
  }
 },
 "nbformat": 4,
 "nbformat_minor": 1
}
